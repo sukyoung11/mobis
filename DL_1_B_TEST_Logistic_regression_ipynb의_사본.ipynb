{
  "nbformat": 4,
  "nbformat_minor": 0,
  "metadata": {
    "colab": {
      "provenance": [],
      "gpuType": "T4",
      "include_colab_link": true
    },
    "kernelspec": {
      "name": "python3",
      "display_name": "Python 3"
    },
    "language_info": {
      "name": "python"
    },
    "accelerator": "GPU"
  },
  "cells": [
    {
      "cell_type": "markdown",
      "metadata": {
        "id": "view-in-github",
        "colab_type": "text"
      },
      "source": [
        "<a href=\"https://colab.research.google.com/github/sukyoung11/mobis/blob/main/DL_1_B_TEST_Logistic_regression_ipynb%EC%9D%98_%EC%82%AC%EB%B3%B8.ipynb\" target=\"_parent\"><img src=\"https://colab.research.google.com/assets/colab-badge.svg\" alt=\"Open In Colab\"/></a>"
      ]
    },
    {
      "cell_type": "markdown",
      "source": [
        "## 1-A. 파이썬 코딩으로 확인하는 선형 회귀"
      ],
      "metadata": {
        "id": "Kg0pgkBCppH2"
      }
    },
    {
      "cell_type": "markdown",
      "source": [
        "###1. 환경 준비"
      ],
      "metadata": {
        "id": "xXpMTr0qpnhk"
      }
    },
    {
      "cell_type": "code",
      "source": [
        "import numpy as np\n",
        "import matplotlib.pyplot as plt\n",
        "from IPython import display"
      ],
      "metadata": {
        "id": "lWHQduzhpmfa"
      },
      "execution_count": null,
      "outputs": []
    },
    {
      "cell_type": "markdown",
      "source": [
        "### 2. 데이터 준비"
      ],
      "metadata": {
        "id": "W-trHDq1p1Oa"
      }
    },
    {
      "cell_type": "code",
      "source": [
        "# 공부 시간 X와 성적 y의 리스트 생성\n",
        "data = [[2,0],[4,0],[6,0],[8,1],[10,1],[12,1],[14,1]]\n",
        "x = [i[0] for i in data]\n",
        "y = [i[1] for i in data]"
      ],
      "metadata": {
        "id": "iXr54unwp350"
      },
      "execution_count": null,
      "outputs": []
    },
    {
      "cell_type": "code",
      "source": [
        "# 데이터의 분포를 그래프 플롯팅\n",
        "plt.scatter(x, y)\n",
        "plt.xlim(0,15)\n",
        "plt.ylim(-1,1.1)\n",
        "plt.show()"
      ],
      "metadata": {
        "colab": {
          "base_uri": "https://localhost:8080/",
          "height": 430
        },
        "id": "gLTzlv2CqDJB",
        "outputId": "bcaa1ecd-e6bf-4f1b-cb0a-3c86bc1f9174"
      },
      "execution_count": null,
      "outputs": [
        {
          "output_type": "display_data",
          "data": {
            "text/plain": [
              "<Figure size 640x480 with 1 Axes>"
            ],
            "image/png": "[encoded data removed]"
          },
          "metadata": {}
        }
      ]
    },
    {
      "cell_type": "markdown",
      "source": [
        "### Logistic Regression 식 초기 설정"
      ],
      "metadata": {
        "id": "p3sCHa9OqI2j"
      }
    },
    {
      "cell_type": "code",
      "source": [
        "# 기울기 a, 절편 b 값 초기화\n",
        "a = 0\n",
        "b = 0\n",
        "\n",
        "#학습률 설정\n",
        "lr=0.001\n",
        "\n",
        "#반복횟수\n",
        "epochs=2000"
      ],
      "metadata": {
        "id": "V0V9QDG-qLJO"
      },
      "execution_count": null,
      "outputs": []
    },
    {
      "cell_type": "code",
      "source": [
        "# 시그모이드 함수 정의\n",
        "def sigmoid(x):\n",
        "  return 1/(1+np.e ** (-x))"
      ],
      "metadata": {
        "id": "lGFwRGs6tkM0"
      },
      "execution_count": null,
      "outputs": []
    },
    {
      "cell_type": "markdown",
      "source": [
        "### 경사 하강법"
      ],
      "metadata": {
        "id": "RImslZpKqWom"
      }
    },
    {
      "cell_type": "code",
      "source": [
        "\n",
        "for i in range(epochs+1):\n",
        "    for x_data, y_data in data:\n",
        "        a_diff = x_data*(sigmoid(a*x_data + b) - y_data)\n",
        "        b_diff = sigmoid(a*x_data + b) - y_data\n",
        "        a = a - lr * a_diff\n",
        "        b = b - lr * b_diff\n",
        "        if i % 100 == 0:    # 100번 반복될 때마다 각 x_data값에 대한 현재의 a값, b값을 출력합니다.\n",
        "            print(\"epoch=%.f, 기울기=%.04f, 절편=%.04f\" % (i, a, b))\n"
      ],
      "metadata": {
        "colab": {
          "base_uri": "https://localhost:8080/"
        },
        "id": "Ip90Vz2Ets5M",
        "outputId": "b9744c45-5e77-440f-af02-17bfc9046019"
      },
      "execution_count": null,
      "outputs": [
        {
          "output_type": "stream",
          "name": "stdout",
          "text": [
            "epoch=0, 기울기=-0.0010, 절편=-0.0005\n",
            "epoch=0, 기울기=-0.0030, 절편=-0.0010\n",
            "epoch=0, 기울기=-0.0060, 절편=-0.0015\n",
            "epoch=0, 기울기=-0.0019, 절편=-0.0010\n",
            "epoch=0, 기울기=0.0032, 절편=-0.0005\n",
            "epoch=0, 기울기=0.0091, 절편=0.0000\n",
            "epoch=0, 기울기=0.0156, 절편=0.0005\n",
            "epoch=100, 기울기=0.1483, 절편=-0.0979\n",
            "epoch=100, 기울기=0.1458, 절편=-0.0985\n",
            "epoch=100, 기울기=0.1417, 절편=-0.0992\n",
            "epoch=100, 기울기=0.1438, 절편=-0.0989\n",
            "epoch=100, 기울기=0.1459, 절편=-0.0987\n",
            "epoch=100, 기울기=0.1478, 절편=-0.0985\n",
            "epoch=100, 기울기=0.1495, 절편=-0.0984\n",
            "epoch=200, 기울기=0.1603, 절편=-0.2066\n",
            "epoch=200, 기울기=0.1579, 절편=-0.2072\n",
            "epoch=200, 기울기=0.1538, 절편=-0.2079\n",
            "epoch=200, 기울기=0.1559, 절편=-0.2076\n",
            "epoch=200, 기울기=0.1580, 절편=-0.2074\n",
            "epoch=200, 기울기=0.1599, 절편=-0.2072\n",
            "epoch=200, 기울기=0.1615, 절편=-0.2071\n",
            "epoch=300, 기울기=0.1721, 절편=-0.3121\n",
            "epoch=300, 기울기=0.1697, 절편=-0.3127\n",
            "epoch=300, 기울기=0.1657, 절편=-0.3134\n",
            "epoch=300, 기울기=0.1678, 절편=-0.3131\n",
            "epoch=300, 기울기=0.1699, 절편=-0.3129\n",
            "epoch=300, 기울기=0.1717, 절편=-0.3128\n",
            "epoch=300, 기울기=0.1732, 절편=-0.3127\n",
            "epoch=400, 기울기=0.1836, 절편=-0.4146\n",
            "epoch=400, 기울기=0.1812, 절편=-0.4152\n",
            "epoch=400, 기울기=0.1773, 절편=-0.4158\n",
            "epoch=400, 기울기=0.1794, 절편=-0.4155\n",
            "epoch=400, 기울기=0.1814, 절편=-0.4153\n",
            "epoch=400, 기울기=0.1832, 절편=-0.4152\n",
            "epoch=400, 기울기=0.1847, 절편=-0.4151\n",
            "epoch=500, 기울기=0.1948, 절편=-0.5140\n",
            "epoch=500, 기울기=0.1925, 절편=-0.5146\n",
            "epoch=500, 기울기=0.1886, 절편=-0.5153\n",
            "epoch=500, 기울기=0.1908, 절편=-0.5150\n",
            "epoch=500, 기울기=0.1928, 절편=-0.5148\n",
            "epoch=500, 기울기=0.1945, 절편=-0.5146\n",
            "epoch=500, 기울기=0.1958, 절편=-0.5145\n",
            "epoch=600, 기울기=0.2058, 절편=-0.6106\n",
            "epoch=600, 기울기=0.2036, 절편=-0.6112\n",
            "epoch=600, 기울기=0.1997, 절편=-0.6118\n",
            "epoch=600, 기울기=0.2019, 절편=-0.6115\n",
            "epoch=600, 기울기=0.2038, 절편=-0.6113\n",
            "epoch=600, 기울기=0.2055, 절편=-0.6112\n",
            "epoch=600, 기울기=0.2068, 절편=-0.6111\n",
            "epoch=700, 기울기=0.2165, 절편=-0.7044\n",
            "epoch=700, 기울기=0.2144, 절편=-0.7049\n",
            "epoch=700, 기울기=0.2105, 절편=-0.7056\n",
            "epoch=700, 기울기=0.2127, 절편=-0.7053\n",
            "epoch=700, 기울기=0.2146, 절편=-0.7051\n",
            "epoch=700, 기울기=0.2162, 절편=-0.7050\n",
            "epoch=700, 기울기=0.2175, 절편=-0.7049\n",
            "epoch=800, 기울기=0.2270, 절편=-0.7955\n",
            "epoch=800, 기울기=0.2249, 절편=-0.7960\n",
            "epoch=800, 기울기=0.2211, 절편=-0.7967\n",
            "epoch=800, 기울기=0.2233, 절편=-0.7964\n",
            "epoch=800, 기울기=0.2252, 절편=-0.7962\n",
            "epoch=800, 기울기=0.2268, 절편=-0.7961\n",
            "epoch=800, 기울기=0.2279, 절편=-0.7960\n",
            "epoch=900, 기울기=0.2373, 절편=-0.8841\n",
            "epoch=900, 기울기=0.2352, 절편=-0.8846\n",
            "epoch=900, 기울기=0.2314, 절편=-0.8852\n",
            "epoch=900, 기울기=0.2336, 절편=-0.8849\n",
            "epoch=900, 기울기=0.2355, 절편=-0.8847\n",
            "epoch=900, 기울기=0.2370, 절편=-0.8846\n",
            "epoch=900, 기울기=0.2382, 절편=-0.8845\n",
            "epoch=1000, 기울기=0.2473, 절편=-0.9701\n",
            "epoch=1000, 기울기=0.2453, 절편=-0.9706\n",
            "epoch=1000, 기울기=0.2415, 절편=-0.9713\n",
            "epoch=1000, 기울기=0.2437, 절편=-0.9710\n",
            "epoch=1000, 기울기=0.2456, 절편=-0.9708\n",
            "epoch=1000, 기울기=0.2471, 절편=-0.9707\n",
            "epoch=1000, 기울기=0.2482, 절편=-0.9706\n",
            "epoch=1100, 기울기=0.2571, 절편=-1.0538\n",
            "epoch=1100, 기울기=0.2551, 절편=-1.0543\n",
            "epoch=1100, 기울기=0.2514, 절편=-1.0549\n",
            "epoch=1100, 기울기=0.2536, 절편=-1.0547\n",
            "epoch=1100, 기울기=0.2555, 절편=-1.0545\n",
            "epoch=1100, 기울기=0.2569, 절편=-1.0544\n",
            "epoch=1100, 기울기=0.2579, 절편=-1.0543\n",
            "epoch=1200, 기울기=0.2667, 절편=-1.1353\n",
            "epoch=1200, 기울기=0.2647, 절편=-1.1357\n",
            "epoch=1200, 기울기=0.2611, 절편=-1.1363\n",
            "epoch=1200, 기울기=0.2633, 절편=-1.1361\n",
            "epoch=1200, 기울기=0.2651, 절편=-1.1359\n",
            "epoch=1200, 기울기=0.2665, 절편=-1.1358\n",
            "epoch=1200, 기울기=0.2675, 절편=-1.1357\n",
            "epoch=1300, 기울기=0.2760, 절편=-1.2145\n",
            "epoch=1300, 기울기=0.2742, 절편=-1.2150\n",
            "epoch=1300, 기울기=0.2705, 절편=-1.2156\n",
            "epoch=1300, 기울기=0.2728, 절편=-1.2153\n",
            "epoch=1300, 기울기=0.2746, 절편=-1.2151\n",
            "epoch=1300, 기울기=0.2759, 절편=-1.2150\n",
            "epoch=1300, 기울기=0.2768, 절편=-1.2149\n",
            "epoch=1400, 기울기=0.2852, 절편=-1.2917\n",
            "epoch=1400, 기울기=0.2834, 절편=-1.2921\n",
            "epoch=1400, 기울기=0.2798, 절편=-1.2927\n",
            "epoch=1400, 기울기=0.2820, 절편=-1.2924\n",
            "epoch=1400, 기울기=0.2838, 절편=-1.2923\n",
            "epoch=1400, 기울기=0.2851, 절편=-1.2922\n",
            "epoch=1400, 기울기=0.2860, 절편=-1.2921\n",
            "epoch=1500, 기울기=0.2942, 절편=-1.3668\n",
            "epoch=1500, 기울기=0.2924, 절편=-1.3673\n",
            "epoch=1500, 기울기=0.2888, 절편=-1.3679\n",
            "epoch=1500, 기울기=0.2910, 절편=-1.3676\n",
            "epoch=1500, 기울기=0.2928, 절편=-1.3674\n",
            "epoch=1500, 기울기=0.2941, 절편=-1.3673\n",
            "epoch=1500, 기울기=0.2949, 절편=-1.3672\n",
            "epoch=1600, 기울기=0.3030, 절편=-1.4400\n",
            "epoch=1600, 기울기=0.3012, 절편=-1.4405\n",
            "epoch=1600, 기울기=0.2976, 절편=-1.4411\n",
            "epoch=1600, 기울기=0.2999, 절편=-1.4408\n",
            "epoch=1600, 기울기=0.3016, 절편=-1.4406\n",
            "epoch=1600, 기울기=0.3028, 절편=-1.4405\n",
            "epoch=1600, 기울기=0.3036, 절편=-1.4405\n",
            "epoch=1700, 기울기=0.3115, 절편=-1.5114\n",
            "epoch=1700, 기울기=0.3098, 절편=-1.5119\n",
            "epoch=1700, 기울기=0.3063, 절편=-1.5125\n",
            "epoch=1700, 기울기=0.3085, 절편=-1.5122\n",
            "epoch=1700, 기울기=0.3103, 절편=-1.5120\n",
            "epoch=1700, 기울기=0.3114, 절편=-1.5119\n",
            "epoch=1700, 기울기=0.3122, 절편=-1.5119\n",
            "epoch=1800, 기울기=0.3200, 절편=-1.5811\n",
            "epoch=1800, 기울기=0.3183, 절편=-1.5815\n",
            "epoch=1800, 기울기=0.3148, 절편=-1.5821\n",
            "epoch=1800, 기울기=0.3170, 절편=-1.5818\n",
            "epoch=1800, 기울기=0.3187, 절편=-1.5816\n",
            "epoch=1800, 기울기=0.3199, 절편=-1.5815\n",
            "epoch=1800, 기울기=0.3206, 절편=-1.5815\n",
            "epoch=1900, 기울기=0.3282, 절편=-1.6490\n",
            "epoch=1900, 기울기=0.3265, 절편=-1.6495\n",
            "epoch=1900, 기울기=0.3231, 절편=-1.6500\n",
            "epoch=1900, 기울기=0.3253, 절편=-1.6498\n",
            "epoch=1900, 기울기=0.3270, 절편=-1.6496\n",
            "epoch=1900, 기울기=0.3281, 절편=-1.6495\n",
            "epoch=1900, 기울기=0.3288, 절편=-1.6494\n",
            "epoch=2000, 기울기=0.3363, 절편=-1.7154\n",
            "epoch=2000, 기울기=0.3346, 절편=-1.7158\n",
            "epoch=2000, 기울기=0.3312, 절편=-1.7164\n",
            "epoch=2000, 기울기=0.3335, 절편=-1.7161\n",
            "epoch=2000, 기울기=0.3351, 절편=-1.7159\n",
            "epoch=2000, 기울기=0.3362, 절편=-1.7158\n",
            "epoch=2000, 기울기=0.3369, 절편=-1.7158\n"
          ]
        }
      ]
    },
    {
      "cell_type": "code",
      "source": [
        "# 앞서 구한 기울기와 절편을 이용해 그래프를 그려 봅니다.\n",
        "plt.scatter(x, y)\n",
        "plt.xlim(0, 15)\n",
        "plt.ylim(-.1, 1.1)\n",
        "x_range = (np.arange(0, 15, 0.1)) #그래프로 나타낼 x값의 범위를 정합니다.\n",
        "plt.plot(np.arange(0, 15, 0.1), np.array([sigmoid(a*x + b) for x in x_range]))\n",
        "plt.show()"
      ],
      "metadata": {
        "colab": {
          "base_uri": "https://localhost:8080/",
          "height": 430
        },
        "id": "BW01crazqXoo",
        "outputId": "fedbfdd7-9f0d-4d67-a2cf-d8d6ac6987ad"
      },
      "execution_count": null,
      "outputs": [
        {
          "output_type": "display_data",
          "data": {
            "text/plain": [
              "<Figure size 640x480 with 1 Axes>"
            ],
            "image/png": "[encoded data removed]"
          },
          "metadata": {}
        }
      ]
    },
    {
      "cell_type": "code",
      "source": [
        "print(\"logistic regression 식 : y = sigmoid(%.02fx%.02f) \" %(a,b))"
      ],
      "metadata": {
        "colab": {
          "base_uri": "https://localhost:8080/"
        },
        "id": "yPYI48yHqj86",
        "outputId": "801ad120-f341-4f42-f86e-c594032cc226"
      },
      "execution_count": null,
      "outputs": [
        {
          "output_type": "stream",
          "name": "stdout",
          "text": [
            "logistic regression 식 : y = sigmoid(0.34x-1.72) \n"
          ]
        }
      ]
    },
    {
      "cell_type": "markdown",
      "source": [
        "### 점수 예측하기"
      ],
      "metadata": {
        "id": "aUlCpe-pqoo0"
      }
    },
    {
      "cell_type": "code",
      "source": [
        "hour = 7\n",
        "prediction = sigmoid(a*hour+b)\n",
        "if prediction > 0.5:\n",
        "  result = \"PASS\"\n",
        "else:\n",
        "  result = \"FAIL\"\n",
        "\n",
        "print(\"%.f시간을 공부할 경우의 예상 결과는 %s입니다 (%.02f)\" %(hour, result,prediction))"
      ],
      "metadata": {
        "colab": {
          "base_uri": "https://localhost:8080/"
        },
        "id": "cN7W6LcqqqAx",
        "outputId": "1a1edcef-139d-4e1c-b536-36251d4f5335"
      },
      "execution_count": null,
      "outputs": [
        {
          "output_type": "stream",
          "name": "stdout",
          "text": [
            "7시간을 공부할 경우의 예상 결과는 PASS입니다 (0.66)\n"
          ]
        }
      ]
    },
    {
      "cell_type": "markdown",
      "source": [
        "## 모델을 저장해서 점수를 예측하기"
      ],
      "metadata": {
        "id": "JwR17WuwrATt"
      }
    },
    {
      "cell_type": "code",
      "source": [
        "# 1. 라이브러리 불러오기\n",
        "import numpy as np\n",
        "import matplotlib.pyplot as plt\n",
        "from sklearn.datasets import make_classification\n",
        "from sklearn.model_selection import train_test_split\n",
        "from sklearn.linear_model import LogisticRegression\n",
        "from sklearn.metrics import accuracy_score, confusion_matrix, classification_report\n"
      ],
      "metadata": {
        "id": "I_ZQCtYwv8MN"
      },
      "execution_count": null,
      "outputs": []
    },
    {
      "cell_type": "code",
      "source": [
        "x = np.array([2, 4, 6, 8])\n",
        "y = np.array([81, 93, 91, 97])"
      ],
      "metadata": {
        "id": "r1S_ezpSwRfr"
      },
      "execution_count": null,
      "outputs": []
    },
    {
      "cell_type": "code",
      "source": [
        "# 2. 데이터셋 생성 (이진분류용)\n",
        "data = [[2,0],[4,0],[6,0],[8,1],[10,1],[12,1],[14,1]]\n",
        "x = np.array([i[0] for i in data]).reshape(-1,1)\n",
        "y = np.array([i[1] for i in data]).reshape(-1,1)"
      ],
      "metadata": {
        "id": "kCt85_Nmv_8b"
      },
      "execution_count": null,
      "outputs": []
    },
    {
      "cell_type": "code",
      "source": [
        "x"
      ],
      "metadata": {
        "colab": {
          "base_uri": "https://localhost:8080/"
        },
        "id": "Jd_e_U0vwSCe",
        "outputId": "04ddf4aa-4beb-4b50-e1ec-d6052d112fad"
      },
      "execution_count": null,
      "outputs": [
        {
          "output_type": "execute_result",
          "data": {
            "text/plain": [
              "array([[ 2],\n",
              "       [ 4],\n",
              "       [ 6],\n",
              "       [ 8],\n",
              "       [10],\n",
              "       [12],\n",
              "       [14]])"
            ]
          },
          "metadata": {},
          "execution_count": 16
        }
      ]
    },
    {
      "cell_type": "code",
      "source": [
        "# 4. 모델 생성 및 학습\n",
        "model = LogisticRegression()\n",
        "model.fit(x, y)\n",
        "\n",
        "# 5. 예측\n",
        "y = model.predict(x)"
      ],
      "metadata": {
        "colab": {
          "base_uri": "https://localhost:8080/"
        },
        "id": "BKugpuPbwKLp",
        "outputId": "f43d07d2-69c3-4541-a6ce-68561c507726"
      },
      "execution_count": null,
      "outputs": [
        {
          "output_type": "stream",
          "name": "stderr",
          "text": [
            "/usr/local/lib/python3.12/dist-packages/sklearn/utils/validation.py:1408: DataConversionWarning: A column-vector y was passed when a 1d array was expected. Please change the shape of y to (n_samples, ), for example using ravel().\n",
            "  y = column_or_1d(y, warn=True)\n"
          ]
        }
      ]
    },
    {
      "cell_type": "code",
      "source": [
        "# 앞서 구한 기울기와 절편을 이용해 그래프를 그려 봅니다.\n",
        "plt.scatter(x, y)\n",
        "plt.xlim(0, 15)\n",
        "plt.ylim(-.1, 1.1)\n",
        "x_range = (np.arange(0, 15, 0.1)) #그래프로 나타낼 x값의 범위를 정합니다.\n",
        "plt.plot(np.arange(0, 15, 0.1), np.array([sigmoid(a*x + b) for x in x_range]))\n",
        "plt.show()"
      ],
      "metadata": {
        "colab": {
          "base_uri": "https://localhost:8080/",
          "height": 430
        },
        "id": "S2JhS8X4wikO",
        "outputId": "467a3868-20dd-4409-eded-d974bc100bd4"
      },
      "execution_count": null,
      "outputs": [
        {
          "output_type": "display_data",
          "data": {
            "text/plain": [
              "<Figure size 640x480 with 1 Axes>"
            ],
            "image/png": "[encoded data removed]"
          },
          "metadata": {}
        }
      ]
    },
    {
      "cell_type": "code",
      "source": [
        "hour = 7\n",
        "prediction = model.predict(np.array([hour]).reshape(-1,1))\n",
        "if prediction > 0.5:\n",
        "  result = \"PASS\"\n",
        "else:\n",
        "  result = \"FAIL\"\n",
        "\n",
        "print(\"%.f시간을 공부할 경우의 예상 결과는 %s입니다 \" %(hour, result))"
      ],
      "metadata": {
        "colab": {
          "base_uri": "https://localhost:8080/"
        },
        "id": "1FxTZXltwl_M",
        "outputId": "988a00d8-f676-4481-d854-f5fa8456494b"
      },
      "execution_count": null,
      "outputs": [
        {
          "output_type": "stream",
          "name": "stdout",
          "text": [
            "7시간을 공부할 경우의 예상 결과는 PASS입니다 \n"
          ]
        }
      ]
    }
  ]
}